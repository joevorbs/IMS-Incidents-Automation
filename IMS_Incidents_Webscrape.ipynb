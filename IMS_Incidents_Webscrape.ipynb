{
 "cells": [
  {
   "cell_type": "code",
   "execution_count": 43,
   "metadata": {},
   "outputs": [],
   "source": [
    "#Import packages\n",
    "import pandas as pd\n",
    "import numpy as np\n",
    "from selenium import webdriver\n",
    "from selenium.webdriver.common.keys import Keys\n",
    "from selenium.webdriver.support.ui import WebDriverWait\n",
    "from selenium.webdriver.support import expected_conditions as EC\n",
    "from selenium.webdriver.common.by import By\n",
    "from bs4 import BeautifulSoup\n",
    "import shutil\n",
    "import os\n",
    "import time"
   ]
  },
  {
   "cell_type": "code",
   "execution_count": 44,
   "metadata": {},
   "outputs": [],
   "source": [
    "#Initialize global variables for path & date\n",
    "TodaysDate = time.strftime(\"%#m.%d.%Y\")\n",
    "dl_path = 'C:/Users/vorbej1/Downloads/'\n",
    "share_dr_path = 'X:/Ying_Ba/MH - Safety Metrics/IMS Reports/'"
   ]
  },
  {
   "cell_type": "code",
   "execution_count": 45,
   "metadata": {},
   "outputs": [],
   "source": [
    "#Load WebDriver\n",
    "driver = webdriver.Chrome('C:/Users/vorbej1/desktop/chromedriver.exe')"
   ]
  },
  {
   "cell_type": "code",
   "execution_count": 46,
   "metadata": {},
   "outputs": [],
   "source": [
    "#Load IMS website - incident metrics\n",
    "driver.get('http://nyhixapp91v/GlobalIMS/Incidents/IncidentAdvSearch_V3.aspx')"
   ]
  },
  {
   "cell_type": "code",
   "execution_count": 47,
   "metadata": {},
   "outputs": [],
   "source": [
    "#Select Dates\n",
    "date_from = driver.find_element_by_id(\"ctl00_ContentPlaceHolder1_tbxdtFrom\")\n",
    "date_from.clear()\n",
    "date_from.send_keys('4/1/2019')"
   ]
  },
  {
   "cell_type": "code",
   "execution_count": 48,
   "metadata": {},
   "outputs": [],
   "source": [
    "#Select near-misses & good catches\n",
    "driver.find_element_by_id(\"ctl00_ContentPlaceHolder1_cbxNM\").click()\n",
    "driver.find_element_by_id(\"ctl00_ContentPlaceHolder1_cbxHaz\").click()"
   ]
  },
  {
   "cell_type": "code",
   "execution_count": 49,
   "metadata": {},
   "outputs": [],
   "source": [
    "#Select National Grid\n",
    "driver.find_element_by_id(\"chk_US\").click()"
   ]
  },
  {
   "cell_type": "code",
   "execution_count": 50,
   "metadata": {},
   "outputs": [],
   "source": [
    "#Select drop-down\n",
    "driver.find_element_by_xpath('//img[@src=\"../tree2/style/web/plusik_l.gif\"]').click()"
   ]
  },
  {
   "cell_type": "code",
   "execution_count": 51,
   "metadata": {},
   "outputs": [],
   "source": [
    "#Select gas operations for gas ops incidents\n",
    "driver.find_element_by_id('chk_A_US_97500242').click()"
   ]
  },
  {
   "cell_type": "code",
   "execution_count": 52,
   "metadata": {},
   "outputs": [],
   "source": [
    "#Select incident details to add additional information\n",
    "driver.find_element_by_link_text('Incident Details').click()"
   ]
  },
  {
   "cell_type": "code",
   "execution_count": 53,
   "metadata": {},
   "outputs": [],
   "source": [
    "time.sleep(3)"
   ]
  },
  {
   "cell_type": "code",
   "execution_count": 54,
   "metadata": {},
   "outputs": [],
   "source": [
    "#Include additional incident information - 8:Reported by, 9:Created by, 13:Incident descr., 23:Employee id, 27:Union\n",
    "additional_inc_ids = ['8','9','13','23','27']\n",
    "\n",
    "for inc_id in additional_inc_ids:\n",
    "    driver.find_element_by_id(\"ctl00_ContentPlaceHolder1_pnlColumns_i6_i\" + inc_id + \"_cbx_SelectAsOutput\").click()"
   ]
  },
  {
   "cell_type": "code",
   "execution_count": 55,
   "metadata": {},
   "outputs": [],
   "source": [
    "#Select organization \n",
    "driver.find_element_by_link_text('Organization').click()\n",
    "time.sleep(.5)"
   ]
  },
  {
   "cell_type": "code",
   "execution_count": 56,
   "metadata": {
    "scrolled": true
   },
   "outputs": [],
   "source": [
    "#Check all organizations within gas ops\n",
    "org_select = driver.find_elements_by_xpath('//ul[@class=\"rpRootGroup\"]/li[9]//input[@type=\"checkbox\"]')\n",
    "\n",
    "for orgs in org_select:\n",
    "    orgs.click()"
   ]
  },
  {
   "cell_type": "code",
   "execution_count": 57,
   "metadata": {},
   "outputs": [],
   "source": [
    "#Search\n",
    "driver.find_element_by_id('ctl00_ContentPlaceHolder1_btn_Search').click()"
   ]
  },
  {
   "cell_type": "code",
   "execution_count": 58,
   "metadata": {},
   "outputs": [],
   "source": [
    "#Allow time for table to load\n",
    "time.sleep(5)"
   ]
  },
  {
   "cell_type": "code",
   "execution_count": 59,
   "metadata": {},
   "outputs": [],
   "source": [
    "#Obtain number of rows for report to use to split array into rows for dataframe\n",
    "#Number of rows is printed with the report and will be dynamic as more records are added\n",
    "n_rows = driver.find_element_by_xpath('//span[@id=\"ctl00_ContentPlaceHolder1_lblRecords\"]').text\n",
    "n_rows = int(n_rows[0:3])"
   ]
  },
  {
   "cell_type": "code",
   "execution_count": 60,
   "metadata": {},
   "outputs": [],
   "source": [
    "#Extract column headers\n",
    "for th in driver.find_elements_by_xpath('//table[@id=\"ctl00_ContentPlaceHolder1_GridView1\"]'):\n",
    "        ths = th.find_elements_by_tag_name('th')\n",
    "        cols = [th.text for th in ths]"
   ]
  },
  {
   "cell_type": "code",
   "execution_count": 61,
   "metadata": {},
   "outputs": [],
   "source": [
    "#Extract table rows\n",
    "for td in driver.find_elements_by_xpath('//table[@id=\"ctl00_ContentPlaceHolder1_GridView1\"]'):\n",
    "    tds = td.find_elements_by_tag_name('td')\n",
    "    data = [td.text for td in tds]"
   ]
  },
  {
   "cell_type": "code",
   "execution_count": 62,
   "metadata": {},
   "outputs": [],
   "source": [
    "#Create dataframe - assign extracted column headers for colnames and split array into # of rows\n",
    "incidents_report = pd.DataFrame(columns=cols, data=np.array_split(data , n_rows))"
   ]
  },
  {
   "cell_type": "code",
   "execution_count": 63,
   "metadata": {},
   "outputs": [],
   "source": [
    "#Write to excel for alteryx input\n",
    "incidents_report.to_excel('X:/Ying_Ba/MH - Safety Metrics/Input/incidents_report.xls')"
   ]
  }
 ],
 "metadata": {
  "kernelspec": {
   "display_name": "Python 3",
   "language": "python",
   "name": "python3"
  },
  "language_info": {
   "codemirror_mode": {
    "name": "ipython",
    "version": 3
   },
   "file_extension": ".py",
   "mimetype": "text/x-python",
   "name": "python",
   "nbconvert_exporter": "python",
   "pygments_lexer": "ipython3",
   "version": "3.7.1"
  }
 },
 "nbformat": 4,
 "nbformat_minor": 2
}
